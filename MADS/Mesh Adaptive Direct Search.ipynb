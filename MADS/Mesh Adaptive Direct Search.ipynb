{
 "cells": [
  {
   "cell_type": "code",
   "execution_count": 24,
   "id": "7f2aba9d",
   "metadata": {},
   "outputs": [],
   "source": [
    "import numpy as np\n",
    "import matplotlib.pyplot as plt\n",
    "import random\n",
    "import io\n",
    "import math\n",
    "from PIL import Image\n",
    "from matplotlib.colors import LogNorm"
   ]
  },
  {
   "cell_type": "code",
   "execution_count": 2,
   "id": "fb26a5f0",
   "metadata": {},
   "outputs": [],
   "source": [
    "def rand_positive_spanning_set(alpha, n):\n",
    "#     create positive spanning sets (set of vectors whos positive span is R n)\n",
    "    \n",
    "    delta = round(1/math.sqrt(alpha))\n",
    "#     create lower triangular matrix\n",
    "    L = np.diag(delta*random.choices([-1,1], k=n))\n",
    "    \n",
    "#     create lower components of L\n",
    "    for i in range(1,n-1):\n",
    "        for j in range(1,i-1): \n",
    "            L[i,j] = np.random.randint(-delta+1 ,delta-1)\n",
    "            \n",
    "#     rows and columns of L are then randomly permuted to obtain a matrix D\n",
    "    D = L[np.random.permutation(n),:]\n",
    "    D = D[:, np.random.permutation(n)]\n",
    "    \n",
    "#     add one additional direction\n",
    "    D = np.hstack((D ,np.array([-D.sum(axis=0)]).T))\n",
    "    return [D[:,i] for i in range(n+1)]"
   ]
  },
  {
   "cell_type": "code",
   "execution_count": 5,
   "id": "a0376d17",
   "metadata": {},
   "outputs": [],
   "source": [
    "class mesh_adaptive_direct_search:\n",
    "    def __init__(self, f, X, epsilon):\n",
    "        self.f = f\n",
    "        self.X = X\n",
    "        if not isinstance(self.X, np.ndarray):\n",
    "            self.X = np.array([X])\n",
    "        self.epsilon = epsilon\n",
    "        \n",
    "        self.y = f(X)\n",
    "        self.alpha = 1 \n",
    "        self.n = len(X)\n",
    "\n",
    "        self.values = [self.y] # list of y values\n",
    "        self.steps = [X] # list of x values\n",
    "        \n",
    "    def optimize(self):\n",
    "        while self.alpha > self.epsilon:\n",
    "            improved = False\n",
    "            for (i,d) in enumerate(rand_positive_spanning_set(self.alpha, self.n)):\n",
    "                x_next = self.X + self.alpha * d\n",
    "                y_next = self.f(x_next)\n",
    "                \n",
    "#                 queries a new design point along the accepted descent direction\n",
    "                if y_next < self.y:\n",
    "                    self.X, self.y, improved = x_next, y_next, True\n",
    "                    x_next = self.X + 3 * self.alpha * d\n",
    "                    y_next = self.f(x_next)\n",
    "                    if y_next < self.y:\n",
    "                        self.X, self.y = x_next, y_next\n",
    "                        self.values.append(y_next)\n",
    "                        self.steps.append(x_next)\n",
    "                    break\n",
    "                self.values.append(y_next)\n",
    "                self.steps.append(x_next)\n",
    "                \n",
    "#            update step size                \n",
    "            if  improved == True:\n",
    "                self.alpha = min(4* self.alpha, 1) \n",
    "            else: self.alpha = self.alpha/4\n",
    "        self.steps.append(self.X)\n",
    "        return self.X"
   ]
  },
  {
   "cell_type": "code",
   "execution_count": 50,
   "id": "264e6074",
   "metadata": {},
   "outputs": [],
   "source": [
    "def Booth(X):\n",
    "    x, y = X\n",
    "    return (x+2*y-7)**2 + (2*x+y-5)**2\n",
    "\n",
    "f = Booth\n",
    "X = np.array([-5, -5])\n",
    "startingX = X\n",
    "\n",
    "global_minima = np.array([1, 3])"
   ]
  },
  {
   "cell_type": "code",
   "execution_count": 51,
   "id": "98b4f3eb",
   "metadata": {
    "scrolled": false
   },
   "outputs": [
    {
     "data": {
      "text/plain": [
       "array([1., 3.])"
      ]
     },
     "execution_count": 51,
     "metadata": {},
     "output_type": "execute_result"
    }
   ],
   "source": [
    "mads = mesh_adaptive_direct_search(f=f, X=X, epsilon = 0.01)\n",
    "\n",
    "mads.optimize()"
   ]
  },
  {
   "cell_type": "code",
   "execution_count": 52,
   "id": "f59aac9f",
   "metadata": {
    "scrolled": true
   },
   "outputs": [
    {
     "data": {
      "image/png": "[encoded data removed]",
      "text/plain": [
       "<Figure size 432x288 with 2 Axes>"
      ]
     },
     "metadata": {
      "needs_background": "light"
     },
     "output_type": "display_data"
    }
   ],
   "source": [
    "Xs = np.linspace(-10, 10, 1000)\n",
    "Ys = np.linspace(-10, 10, 1000)\n",
    "X, Y = np.meshgrid(Xs, Ys)\n",
    "\n",
    "Z = Booth((X, Y))\n",
    "\n",
    "# Plot countour\n",
    "plt.contourf(X, Y, Z, levels=np.linspace(Z.min(), Z.max(), 20))\n",
    "plt.scatter(global_minima[0], global_minima[1], c='w')\n",
    "plt.colorbar()\n",
    "\n",
    "# Plot steps taken\n",
    "steps = np.array(mads.steps)\n",
    "plt.plot(steps[:,0], steps[:,1], marker='x', c='red')\n",
    "plt.show()"
   ]
  },
  {
   "cell_type": "code",
   "execution_count": 54,
   "id": "15f0ebac",
   "metadata": {},
   "outputs": [],
   "source": [
    "# Create GIF\n",
    "steps = np.array(mads.steps)\n",
    "frames = []\n",
    "for i in range(steps.shape[0]):\n",
    "    # Plot\n",
    "    plt.contourf(X, Y, Z)\n",
    "    plt.scatter(global_minima[0], global_minima[1], c='w')\n",
    "    plt.plot(steps[:i+1, 0], steps[:i+1, 1], marker='x', color='r');\n",
    "    # Save GIF frame to buffer\n",
    "    buffer = io.BytesIO()\n",
    "    plt.savefig(buffer, format='png')\n",
    "    plt.close()\n",
    "    buffer.seek(0)\n",
    "    \n",
    "    # Load and store frame using PIL\n",
    "    frame = Image.open(buffer)\n",
    "    frames.append(frame)\n",
    "# Save frame\n",
    "frames[0].save(fp='mesh_adaptive_direct_search.gif', format='GIF',\n",
    "               append_images=frames, save_all=True, duration=100, loop=0)"
   ]
  },
  {
   "cell_type": "code",
   "execution_count": 55,
   "id": "f831a4b0",
   "metadata": {},
   "outputs": [
    {
     "data": {
      "image/png": "[encoded data removed]",
      "text/plain": [
       "<Figure size 720x360 with 1 Axes>"
      ]
     },
     "metadata": {
      "needs_background": "light"
     },
     "output_type": "display_data"
    }
   ],
   "source": [
    "plt.figure(figsize=(10,5))\n",
    "plt.plot(mads.values)\n",
    "plt.axhline(y=Booth(global_minima), color='r', linestyle='-')\n",
    "plt.title('y_values')\n",
    "plt.show()"
   ]
  }
 ],
 "metadata": {
  "kernelspec": {
   "display_name": "Python 3",
   "language": "python",
   "name": "python3"
  },
  "language_info": {
   "codemirror_mode": {
    "name": "ipython",
    "version": 3
   },
   "file_extension": ".py",
   "mimetype": "text/x-python",
   "name": "python",
   "nbconvert_exporter": "python",
   "pygments_lexer": "ipython3",
   "version": "3.8.8"
  }
 },
 "nbformat": 4,
 "nbformat_minor": 5
}
