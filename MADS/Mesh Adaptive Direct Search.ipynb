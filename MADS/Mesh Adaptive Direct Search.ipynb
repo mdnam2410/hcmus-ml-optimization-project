{
 "cells": [
  {
   "cell_type": "code",
   "execution_count": 1,
   "id": "7f2aba9d",
   "metadata": {},
   "outputs": [],
   "source": [
    "import numpy as np\n",
    "import matplotlib.pyplot as plt\n",
    "import random\n",
    "import io\n",
    "import math\n",
    "from PIL import Image\n",
    "from matplotlib.colors import LogNorm"
   ]
  },
  {
   "cell_type": "code",
   "execution_count": 2,
   "id": "fb26a5f0",
   "metadata": {},
   "outputs": [],
   "source": [
    "def rand_positive_spanning_set(alpha, n):\n",
    "#     create positive spanning sets (set of vectors whos positive span is R n)\n",
    "    delta = round(1/math.sqrt(alpha))\n",
    "#     create lower triangular matrix\n",
    "    L = np.diag(delta*random.choices([-1,1], k=n))\n",
    "    \n",
    "#     create lower components of L\n",
    "    for i in range(1,n-1):\n",
    "        for j in range(1,i-1): \n",
    "            L[i,j] = np.random.randint(-delta+1 ,delta-1)\n",
    "            \n",
    "#     rows and columns of L are then randomly permuted to obtain a matrix D\n",
    "    D = L[np.random.permutation(n),:]\n",
    "    D = D[:, np.random.permutation(n)]\n",
    "    \n",
    "#     add one additional direction\n",
    "    D = np.hstack((D ,np.array([-D.sum(axis=0)]).T))\n",
    "    return [D[:,i] for i in range(n+1)]"
   ]
  },
  {
   "cell_type": "code",
   "execution_count": 11,
   "id": "a0376d17",
   "metadata": {},
   "outputs": [],
   "source": [
    "class mesh_adaptive_direct_search:\n",
    "    def __init__(self, f, X, epsilon):\n",
    "        self.f = f\n",
    "        self.X = X\n",
    "        if not isinstance(self.X, np.ndarray):\n",
    "            self.X = np.array([X])\n",
    "        self.epsilon = epsilon\n",
    "        \n",
    "        self.y = f(X)\n",
    "        self.alpha = 1 \n",
    "        self.n = len(X)\n",
    "\n",
    "        self.vector = []\n",
    "        self.steps = [] # list of x values\n",
    "        \n",
    "    def optimize(self):\n",
    "        while self.alpha > self.epsilon:\n",
    "            improved = False\n",
    "            \n",
    "            vectors = rand_positive_spanning_set(self.alpha, self.n)\n",
    "            res = [list(self.X + self.alpha * item) for item in vectors]\n",
    "            self.steps.append(self.X)\n",
    "            self.vector.append(res)\n",
    "\n",
    "            for (i,d) in enumerate(vectors):\n",
    "                x_next = self.X + self.alpha * d\n",
    "                y_next = self.f(x_next)\n",
    "    \n",
    "#                 queries a new design point along the accepted direction\n",
    "                if y_next < self.y:\n",
    "                    self.X, self.y, improved = x_next, y_next, True\n",
    "                    x_next = self.X + 3 * self.alpha * d\n",
    "                    y_next = self.f(x_next)\n",
    "                    if y_next < self.y:\n",
    "                        self.X, self.y = x_next, y_next\n",
    "                    break\n",
    "                    \n",
    "#            update step size                \n",
    "            if  improved == True:\n",
    "                self.alpha = min(4* self.alpha, 1) \n",
    "            else: self.alpha = self.alpha/4\n",
    "\n",
    "                \n",
    "        return self.X"
   ]
  },
  {
   "cell_type": "code",
   "execution_count": 19,
   "id": "264e6074",
   "metadata": {},
   "outputs": [],
   "source": [
    "def Wheeler(X):\n",
    "    a = 1.5\n",
    "    x = X\n",
    "    return -np.exp(-(x[0]*x[1]-a)**2-(x[1]-a)**2)\n",
    "\n",
    "f = Wheeler\n",
    "X = np.array([2, 1])\n",
    "startingX = X\n",
    "\n",
    "global_minima = np.array([1, 1.5])"
   ]
  },
  {
   "cell_type": "code",
   "execution_count": 20,
   "id": "98b4f3eb",
   "metadata": {
    "scrolled": false
   },
   "outputs": [
    {
     "data": {
      "text/plain": [
       "array([1. , 1.5])"
      ]
     },
     "execution_count": 20,
     "metadata": {},
     "output_type": "execute_result"
    }
   ],
   "source": [
    "mads = mesh_adaptive_direct_search(f=f, X=startingX, epsilon = 0.01)\n",
    "\n",
    "mads.optimize()"
   ]
  },
  {
   "cell_type": "code",
   "execution_count": 21,
   "id": "872b5bd1",
   "metadata": {},
   "outputs": [],
   "source": [
    "vectors = np.array(mads.vector)\n",
    "steps = np.array(mads.steps)"
   ]
  },
  {
   "cell_type": "code",
   "execution_count": 22,
   "id": "18cd8fbb",
   "metadata": {},
   "outputs": [],
   "source": [
    "def visualize_final(steps, vectors, prev_step, prev_vector):\n",
    "    Xs = np.linspace(0, 3, 1000)\n",
    "    Ys = np.linspace(0, 3, 1000)\n",
    "    X, Y = np.meshgrid(Xs, Ys)\n",
    "\n",
    "    Z = Wheeler((X, Y))\n",
    "\n",
    "    # Plot countour\n",
    "    plt.contour(X, Y, Z, levels=np.linspace(Z.min(), Z.max(), 10))\n",
    "    plt.scatter(global_minima[0], global_minima[1], color='red')\n",
    "    plt.colorbar()\n",
    "\n",
    "    # Plot steps taken\n",
    "    plt.scatter(steps[0],steps[1], color='black', s=10)\n",
    "    for item in vectors:\n",
    "        plt.scatter(item[0],item[1],color=\"black\",s=10)\n",
    "        x_values = [steps[0], item[0]]\n",
    "        y_values = [steps[1], item[1]]\n",
    "        plt.plot(x_values, y_values, color = 'black')\n",
    "        \n",
    "    plt.scatter(prev_step[0],prev_step[1],color = \"blue\", s=15, alpha=0.3)\n",
    "    for prev_item in prev_vector:\n",
    "        plt.scatter(prev_item[0],prev_item[1],color=\"black\", alpha=0.1,s=10)\n",
    "        x_values = [prev_step[0], prev_item[0]]\n",
    "        y_values = [prev_step[1], prev_item[1]]\n",
    "        plt.plot(x_values, y_values, color = 'black', alpha=0.3)\n",
    "        \n",
    "    plt.show()"
   ]
  },
  {
   "cell_type": "code",
   "execution_count": null,
   "id": "27465197",
   "metadata": {
    "scrolled": false
   },
   "outputs": [],
   "source": [
    "for i in range(1,len(vectors),1):\n",
    "    visualize_final(steps[i], vectors[i], steps[i-1], vectors[i-1])"
   ]
  },
  {
   "cell_type": "code",
   "execution_count": 17,
   "id": "c5568476",
   "metadata": {},
   "outputs": [],
   "source": [
    "def visualize_gif(steps, vectors, prev_step, prev_vector,frames):\n",
    "    Xs = np.linspace(0, 3, 1000)\n",
    "    Ys = np.linspace(0, 3, 1000)\n",
    "    X, Y = np.meshgrid(Xs, Ys)\n",
    "\n",
    "    Z = Wheeler((X, Y))\n",
    "\n",
    "    # Plot countour\n",
    "    plt.contour(X, Y, Z, levels=np.linspace(Z.min(), Z.max(), 10))\n",
    "    plt.scatter(global_minima[0], global_minima[1], c='r')\n",
    "    plt.colorbar()\n",
    "\n",
    "\n",
    "    # Plot steps taken\n",
    "    plt.scatter(steps[0],steps[1], color='black', s=10)\n",
    "    for item in vectors:\n",
    "        plt.scatter(item[0],item[1],color=\"black\",s=10)\n",
    "        x_values = [steps[0], item[0]]\n",
    "        y_values = [steps[1], item[1]]\n",
    "        plt.plot(x_values, y_values, color = 'black')\n",
    "        \n",
    "    plt.scatter(prev_step[0],prev_step[1],color = \"blue\", s=15, alpha=0.3)\n",
    "    for prev_item in prev_vector:\n",
    "        plt.scatter(prev_item[0],prev_item[1],color=\"black\", alpha=0.1,s=10)\n",
    "        x_values = [prev_step[0], prev_item[0]]\n",
    "        y_values = [prev_step[1], prev_item[1]]\n",
    "        plt.plot(x_values, y_values, color = 'black', alpha=0.3)\n",
    "        \n",
    "    # Save GIF frame to buffer\n",
    "    buffer = io.BytesIO()\n",
    "    plt.savefig(buffer, format='png')\n",
    "    plt.close()\n",
    "    buffer.seek(0)\n",
    "    \n",
    "    # Load and store frame using PIL\n",
    "    frame = Image.open(buffer)\n",
    "    frames.append(frame)\n",
    "       \n",
    "    return frames"
   ]
  },
  {
   "cell_type": "code",
   "execution_count": 18,
   "id": "15f0ebac",
   "metadata": {},
   "outputs": [],
   "source": [
    "frames = []\n",
    "for i in range(1,len(vectors),1):\n",
    "    visualize_gif(steps[i], vectors[i], steps[i-1], vectors[i-1],frames)\n",
    "frames[0].save(fp='mesh_adaptive_direct_search.gif', format='GIF',\n",
    "               append_images=frames, save_all=True, duration=800, loop=0)"
   ]
  },
  {
   "cell_type": "code",
   "execution_count": null,
   "id": "aa52d5f6",
   "metadata": {},
   "outputs": [],
   "source": []
  }
 ],
 "metadata": {
  "kernelspec": {
   "display_name": "Python 3",
   "language": "python",
   "name": "python3"
  },
  "language_info": {
   "codemirror_mode": {
    "name": "ipython",
    "version": 3
   },
   "file_extension": ".py",
   "mimetype": "text/x-python",
   "name": "python",
   "nbconvert_exporter": "python",
   "pygments_lexer": "ipython3",
   "version": "3.8.8"
  }
 },
 "nbformat": 4,
 "nbformat_minor": 5
}
