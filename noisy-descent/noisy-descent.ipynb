{
 "cells": [
  {
   "cell_type": "code",
   "execution_count": 1,
   "id": "2fff3c24",
   "metadata": {},
   "outputs": [],
   "source": [
    "import io\n",
    "import matplotlib.pyplot as plt\n",
    "import numpy as np\n",
    "\n",
    "from PIL import Image"
   ]
  },
  {
   "cell_type": "markdown",
   "id": "5fdce440",
   "metadata": {},
   "source": [
    "# Implementation"
   ]
  },
  {
   "cell_type": "code",
   "execution_count": 2,
   "id": "fa7eac2f",
   "metadata": {},
   "outputs": [],
   "source": [
    "class NoisyDescent:\n",
    "    def __init__(self,\n",
    "                 f,\n",
    "                 x_dim,\n",
    "                 initial_point=None,\n",
    "                 max_iter=1000,\n",
    "                 alpha=0.1,\n",
    "                 fixed_sigma=None,\n",
    "                 h=10e-2,\n",
    "                 diff_method='complex'):\n",
    "        self.f = f\n",
    "        self.x_dim = x_dim\n",
    "        self.initial_point = np.random.randn(x_dim) if initial_point is None else initial_point\n",
    "        self.max_iter = max_iter\n",
    "        self.alpha = alpha\n",
    "        self.fixed_sigma = fixed_sigma\n",
    "        self.h = h\n",
    "        self.diff_method = diff_method\n",
    "        \n",
    "        # Iteration count\n",
    "        self.k = 0\n",
    "        \n",
    "        self.current_x = self.initial_point\n",
    "        \n",
    "        # Values of f at each iteration\n",
    "        self.values = [self.f(self.current_x)]\n",
    "        \n",
    "        # Values of x at each iteration\n",
    "        self.steps = [self.current_x]\n",
    "        \n",
    "        self.optimized = False\n",
    "        self.optimized_x = None\n",
    "        \n",
    "    def optimize(self):\n",
    "        for _ in range(self.max_iter):\n",
    "            self.k += 1\n",
    "            \n",
    "            # Perform noisy descent step\n",
    "            grad = self._diff()\n",
    "            self.current_x = self.current_x - self.alpha * grad + self._noise()\n",
    "            \n",
    "            # Store values\n",
    "            f_value = self.f(self.current_x)\n",
    "            self.values.append(f_value)\n",
    "            self.steps.append(self.current_x)\n",
    "        \n",
    "        self.optimized = True\n",
    "        self.optimized_x = self.steps[-1]\n",
    "        return self.optimized_x\n",
    "    \n",
    "    def _sigma(self):\n",
    "        if self.fixed_sigma is None:\n",
    "            return 1 / self.k\n",
    "        return self.fixed_sigma\n",
    "    \n",
    "    def _noise(self):\n",
    "        return np.random.normal(scale=self._sigma(), size=(self.x_dim,))\n",
    "    \n",
    "    def _diff(self):\n",
    "        if self.diff_method == 'complex':\n",
    "            return self._diff_complex()\n",
    "        elif self.diff_method == 'numeric':\n",
    "            return self._diff_numeric()\n",
    "        return 0\n",
    "    \n",
    "    def _diff_complex(self):\n",
    "        H = np.eye(self.x_dim) * complex(0, self.h)\n",
    "        result = np.apply_along_axis(lambda x: self.f(x).imag / self.h, 1, self.current_x + H)\n",
    "        return result\n",
    "    \n",
    "    def _diff_numeric(self):\n",
    "        H = np.eye(self.x_dim) * self.h/2\n",
    "        left = np.apply_along_axis(self.f, 1, self.current_x - H)\n",
    "        right = np.apply_along_axis(self.f, 1, self.current_x + H)\n",
    "        return (right - left) / self.h"
   ]
  },
  {
   "cell_type": "markdown",
   "id": "52eb2a47",
   "metadata": {},
   "source": [
    "# Demo optimizing function 1"
   ]
  },
  {
   "cell_type": "markdown",
   "id": "7f3babed",
   "metadata": {},
   "source": [
    "Optimizing function:\n",
    "$$ f_1(x) = x_1^2 - x_2^2 $$\n",
    "\n",
    "Initialization: $x = \\begin{bmatrix} 1 \\\\ 0 \\end{bmatrix} $"
   ]
  },
  {
   "cell_type": "code",
   "execution_count": 3,
   "id": "fa6136b6",
   "metadata": {},
   "outputs": [],
   "source": [
    "f1 = lambda x: x[0]**2 - x[1]**2"
   ]
  },
  {
   "cell_type": "markdown",
   "id": "ba18164c",
   "metadata": {},
   "source": [
    "## Using noisy descent"
   ]
  },
  {
   "cell_type": "markdown",
   "id": "8fdc07f9",
   "metadata": {},
   "source": [
    "Here we optimize $f_1(x)$ using noisy descent with some predefined parameters."
   ]
  },
  {
   "cell_type": "code",
   "execution_count": 4,
   "id": "59dcb7ea",
   "metadata": {},
   "outputs": [
    {
     "data": {
      "text/plain": [
       "array([-0.2210216 ,  2.48429218])"
      ]
     },
     "execution_count": 4,
     "metadata": {},
     "output_type": "execute_result"
    }
   ],
   "source": [
    "# To reproduce the same result every time\n",
    "np.random.seed(2)\n",
    "nd1 = NoisyDescent(f1, x_dim=2, initial_point=np.array([1, 0]), max_iter=30, alpha=0.04, diff_method='numeric')\n",
    "nd1.optimize()"
   ]
  },
  {
   "cell_type": "markdown",
   "id": "f4e26ba6",
   "metadata": {},
   "source": [
    "### Visualizing descent trace"
   ]
  },
  {
   "cell_type": "code",
   "execution_count": 5,
   "id": "f90885a2",
   "metadata": {},
   "outputs": [],
   "source": [
    "def visualize_descent(f, steps, x_range, y_range):\n",
    "    Xs = np.linspace(*x_range, 100)\n",
    "    Ys = np.linspace(*y_range, 100)\n",
    "\n",
    "    Xs, Ys = np.meshgrid(Xs, Ys)\n",
    "    Zs = np.apply_along_axis(f, 2, np.stack([Xs, Ys], axis=2))\n",
    "\n",
    "    # Plot countour\n",
    "    plt.figure(figsize=(6, 6))\n",
    "    plt.contourf(Xs, Ys, Zs)\n",
    "\n",
    "    # Plot steps taken\n",
    "    plt.plot(steps[:, 0], steps[:, 1], marker='x', color='w');\n",
    "\n",
    "    plt.show()"
   ]
  },
  {
   "cell_type": "code",
   "execution_count": 6,
   "id": "ba207250",
   "metadata": {},
   "outputs": [
    {
     "data": {
      "image/png": "[encoded data removed]",
      "text/plain": [
       "<Figure size 432x432 with 1 Axes>"
      ]
     },
     "metadata": {
      "needs_background": "light"
     },
     "output_type": "display_data"
    }
   ],
   "source": [
    "visualize_descent(f1, steps=np.array(nd1.steps), x_range=(-4, 4), y_range=(-4, 4))"
   ]
  },
  {
   "cell_type": "markdown",
   "id": "56dccf29",
   "metadata": {},
   "source": [
    "### Creating GIF"
   ]
  },
  {
   "cell_type": "code",
   "execution_count": 7,
   "id": "b8a80f6c",
   "metadata": {},
   "outputs": [],
   "source": [
    "def create_gif(f, steps, x_range, y_range, file_name):\n",
    "    Xs = np.linspace(*x_range, 100)\n",
    "    Ys = np.linspace(*y_range, 100)\n",
    "\n",
    "    Xs, Ys = np.meshgrid(Xs, Ys)\n",
    "    Zs = np.apply_along_axis(f, 2, np.stack([Xs, Ys], axis=2))\n",
    "    \n",
    "    frames = []\n",
    "    for i in range(steps.shape[0]):\n",
    "        # Plot\n",
    "        plt.contourf(Xs, Ys, Zs)\n",
    "        plt.plot(steps[:i+1, 0], steps[:i+1, 1], color='white', marker='x')\n",
    "\n",
    "        # Save GIF frame to buffer\n",
    "        buffer = io.BytesIO()\n",
    "        plt.savefig(buffer, format='png')\n",
    "        plt.close()\n",
    "        buffer.seek(0)\n",
    "\n",
    "        # Load and store frame using PIL\n",
    "        frame = Image.open(buffer)\n",
    "        frames.append(frame)\n",
    "        \n",
    "    # Save frame\n",
    "    frames[0].save(fp=file_name, format='GIF',\n",
    "               append_images=frames, save_all=True, duration=100, loop=0)"
   ]
  },
  {
   "cell_type": "code",
   "execution_count": 8,
   "id": "f9d32d32",
   "metadata": {},
   "outputs": [],
   "source": [
    "create_gif(\n",
    "    f1,\n",
    "    steps=np.array(nd1.steps),\n",
    "    x_range=(-4, 4),\n",
    "    y_range=(-4, 4),\n",
    "    file_name='animations/f1-noisy-descent.gif'\n",
    ")"
   ]
  },
  {
   "cell_type": "markdown",
   "id": "9384c5a0",
   "metadata": {},
   "source": [
    "## Using ordinary gradient descent"
   ]
  },
  {
   "cell_type": "code",
   "execution_count": 9,
   "id": "a93da62b",
   "metadata": {},
   "outputs": [
    {
     "data": {
      "text/plain": [
       "array([0.0819662, 0.       ])"
      ]
     },
     "execution_count": 9,
     "metadata": {},
     "output_type": "execute_result"
    }
   ],
   "source": [
    "gd1 = NoisyDescent(f1, x_dim=2,\n",
    "                  initial_point=np.array([1, 0]),\n",
    "                  max_iter=30,\n",
    "                  alpha=0.04,\n",
    "                  fixed_sigma=0, # Using sigma = 0 removes the noise -> fall back to gradient descent\n",
    "                  diff_method='numeric')\n",
    "gd1.optimize()"
   ]
  },
  {
   "cell_type": "markdown",
   "id": "973e2865",
   "metadata": {},
   "source": [
    "### Visualizing descent trace"
   ]
  },
  {
   "cell_type": "code",
   "execution_count": 10,
   "id": "069658d2",
   "metadata": {},
   "outputs": [
    {
     "data": {
      "image/png": "[encoded data removed]",
      "text/plain": [
       "<Figure size 432x432 with 1 Axes>"
      ]
     },
     "metadata": {
      "needs_background": "light"
     },
     "output_type": "display_data"
    }
   ],
   "source": [
    "visualize_descent(f1, steps=np.array(gd1.steps), x_range=(-4, 4), y_range=(-4, 4))"
   ]
  },
  {
   "cell_type": "markdown",
   "id": "1abcbf60",
   "metadata": {},
   "source": [
    "### Creating GIF"
   ]
  },
  {
   "cell_type": "code",
   "execution_count": 11,
   "id": "f861f377",
   "metadata": {},
   "outputs": [],
   "source": [
    "create_gif(\n",
    "    f1,\n",
    "    steps=np.array(gd1.steps),\n",
    "    x_range=(-4, 4),\n",
    "    y_range=(-4, 4),\n",
    "    file_name='animations/f1-gradient-descent.gif'\n",
    ")"
   ]
  },
  {
   "cell_type": "markdown",
   "id": "9566851b",
   "metadata": {},
   "source": [
    "## Comparing how noisy descent and gradient descent reduce f"
   ]
  },
  {
   "cell_type": "code",
   "execution_count": 12,
   "id": "400a6898",
   "metadata": {},
   "outputs": [
    {
     "data": {
      "image/png": "[encoded data removed]",
      "text/plain": [
       "<Figure size 432x288 with 1 Axes>"
      ]
     },
     "metadata": {
      "needs_background": "light"
     },
     "output_type": "display_data"
    }
   ],
   "source": [
    "plt.plot(nd1.values, color='blue')\n",
    "plt.plot(gd1.values, color='orange')\n",
    "plt.xlabel('Iteration')\n",
    "plt.ylabel('f(x)')\n",
    "plt.legend(['Noisy descent', 'Gradient descent'])\n",
    "plt.show()"
   ]
  },
  {
   "cell_type": "markdown",
   "id": "737dd72e",
   "metadata": {},
   "source": [
    "# Demo optimizing function 2"
   ]
  },
  {
   "cell_type": "markdown",
   "id": "6764c73b",
   "metadata": {},
   "source": [
    "Optimizing function:\n",
    "$$ f(x) = \\sin x_1 - \\cos x_2 $$\n",
    "\n",
    "Initialization: $x = \\begin{bmatrix} 0.5 \\\\ 0.3 \\end{bmatrix} $"
   ]
  },
  {
   "cell_type": "markdown",
   "id": "e757ac7e",
   "metadata": {},
   "source": [
    "## Using noisy descent"
   ]
  },
  {
   "cell_type": "code",
   "execution_count": 13,
   "id": "dbcd82de",
   "metadata": {},
   "outputs": [],
   "source": [
    "f2 = lambda x: np.sin(x[0]) + np.cos(x[1])"
   ]
  },
  {
   "cell_type": "code",
   "execution_count": 14,
   "id": "538439d7",
   "metadata": {},
   "outputs": [
    {
     "data": {
      "text/plain": [
       "array([-1.44829984,  3.07699092])"
      ]
     },
     "execution_count": 14,
     "metadata": {},
     "output_type": "execute_result"
    }
   ],
   "source": [
    "np.random.seed(10)\n",
    "nd2 = NoisyDescent(f2, x_dim=2, initial_point=np.array([0.5, 0.3]), max_iter=50, alpha=0.1, diff_method='numeric')\n",
    "nd2.optimize()"
   ]
  },
  {
   "cell_type": "code",
   "execution_count": 15,
   "id": "345058d0",
   "metadata": {},
   "outputs": [
    {
     "data": {
      "image/png": "[encoded data removed]",
      "text/plain": [
       "<Figure size 432x432 with 1 Axes>"
      ]
     },
     "metadata": {
      "needs_background": "light"
     },
     "output_type": "display_data"
    }
   ],
   "source": [
    "visualize_descent(f2, np.array(nd2.steps), x_range=(-5, 5), y_range=(-1, 5))"
   ]
  },
  {
   "cell_type": "code",
   "execution_count": 16,
   "id": "09816ffe",
   "metadata": {},
   "outputs": [],
   "source": [
    "create_gif(f2, np.array(nd2.steps), x_range=(-5, 5), y_range=(-1, 5), file_name='animations/f2-noisy-descent.gif')"
   ]
  },
  {
   "cell_type": "markdown",
   "id": "515c5104",
   "metadata": {},
   "source": [
    "## Using gradient descent"
   ]
  },
  {
   "cell_type": "code",
   "execution_count": 17,
   "id": "37a8fcee",
   "metadata": {},
   "outputs": [
    {
     "data": {
      "text/plain": [
       "array([-1.55205026,  3.05783791])"
      ]
     },
     "execution_count": 17,
     "metadata": {},
     "output_type": "execute_result"
    }
   ],
   "source": [
    "gd2 = NoisyDescent(f2, x_dim=2, initial_point=np.array([0.5, 0.3]), max_iter=50, alpha=0.1, fixed_sigma=0, diff_method='numeric')\n",
    "gd2.optimize()"
   ]
  },
  {
   "cell_type": "code",
   "execution_count": 18,
   "id": "ffacb0eb",
   "metadata": {},
   "outputs": [
    {
     "data": {
      "image/png": "[encoded data removed]",
      "text/plain": [
       "<Figure size 432x432 with 1 Axes>"
      ]
     },
     "metadata": {
      "needs_background": "light"
     },
     "output_type": "display_data"
    }
   ],
   "source": [
    "visualize_descent(f2, np.array(gd2.steps), x_range=(-5, 5), y_range=(-1, 5))"
   ]
  },
  {
   "cell_type": "code",
   "execution_count": 19,
   "id": "a3b91e73",
   "metadata": {},
   "outputs": [],
   "source": [
    "create_gif(f2, np.array(gd2.steps), x_range=(-5, 5), y_range=(-1, 5), file_name='animations/f2-gradient-descent.gif')"
   ]
  },
  {
   "cell_type": "markdown",
   "id": "1f3ba308",
   "metadata": {},
   "source": [
    "## Comparing how noisy descent and gradient descent reduce f"
   ]
  },
  {
   "cell_type": "code",
   "execution_count": 20,
   "id": "3ff90d5a",
   "metadata": {},
   "outputs": [
    {
     "data": {
      "image/png": "[encoded data removed]",
      "text/plain": [
       "<Figure size 432x288 with 1 Axes>"
      ]
     },
     "metadata": {
      "needs_background": "light"
     },
     "output_type": "display_data"
    }
   ],
   "source": [
    "plt.plot(nd2.values, color='blue')\n",
    "plt.plot(gd2.values, color='orange')\n",
    "plt.xlabel('Iteration')\n",
    "plt.ylabel('f(x)')\n",
    "plt.legend(['Noisy descent', 'Gradient descent'])\n",
    "plt.show()"
   ]
  },
  {
   "cell_type": "code",
   "execution_count": 21,
   "id": "83f3a45f",
   "metadata": {},
   "outputs": [
    {
     "name": "stdout",
     "output_type": "stream",
     "text": [
      "True local minimum: [-1.57079633  3.14159265]\n",
      "Noisy descent result: [-1.44829984  3.07699092]\n",
      "Gradient descent result: [-1.55205026  3.05783791]\n",
      "Distance from true local minimum (noisy descent): 0.13848744372571076\n",
      "Distance from true local minimum (gradient descent): 0.08582699241443623\n"
     ]
    }
   ],
   "source": [
    "true_local_minimum = np.array([-np.pi/2, np.pi])\n",
    "\n",
    "print(f'True local minimum: {true_local_minimum}')\n",
    "print(f'Noisy descent result: {nd2.optimized_x}')\n",
    "print(f'Gradient descent result: {gd2.optimized_x}')\n",
    "\n",
    "print(f'Distance from true local minimum (noisy descent): {np.sqrt(np.sum((nd2.optimized_x - true_local_minimum)**2))}')\n",
    "print(f'Distance from true local minimum (gradient descent): {np.sqrt(np.sum((gd2.optimized_x - true_local_minimum)**2))}')"
   ]
  }
 ],
 "metadata": {
  "kernelspec": {
   "display_name": "Python 3 (ipykernel)",
   "language": "python",
   "name": "python3"
  },
  "language_info": {
   "codemirror_mode": {
    "name": "ipython",
    "version": 3
   },
   "file_extension": ".py",
   "mimetype": "text/x-python",
   "name": "python",
   "nbconvert_exporter": "python",
   "pygments_lexer": "ipython3",
   "version": "3.9.7"
  }
 },
 "nbformat": 4,
 "nbformat_minor": 5
}
