{
 "cells": [
  {
   "cell_type": "code",
   "execution_count": 1,
   "id": "2fff3c24",
   "metadata": {},
   "outputs": [],
   "source": [
    "import io\n",
    "import matplotlib.pyplot as plt\n",
    "import numpy as np\n",
    "\n",
    "from PIL import Image"
   ]
  },
  {
   "cell_type": "markdown",
   "id": "37904b8a",
   "metadata": {},
   "source": [
    "# Some stuff that need to be clarified\n",
    "\n",
    "## What is it?\n",
    "Noisy descent - a way that augments gradient descent so that it can escape saddle points. In a more general case, it augments any descent method by adding a noise at each descent step.\n",
    "\n",
    "Formula:\n",
    "$$ x^{(k+1)} = x^{(k)} + \\alpha^{(k)} g^{(k)} + \\epsilon^{(k)} $$\n",
    "\n",
    "where:\n",
    "* $\\alpha^{(k)}$: the learning rate\n",
    "* $g^{(k)} = \\nabla f(x^{(k)})$: gradient of function $f$ at $k$\n",
    "* $\\epsilon^{(k)}$: the noise, usually a Gaussian noise, i.e. $\\epsilon^{(k)} \\sim N(0, \\sigma)$\n",
    "\n",
    "## Goal\n",
    "* To implement noisy descent\n",
    "* To demonstrate it\n",
    "* To show its advantages and weeknesses\n",
    "\n",
    "## Features\n",
    "* Evaluate the function $f(x)$, where $f: \\mathbb{R}^n \\rightarrow \\mathbb{R}$, $x \\in \\mathbb{R}^n$ (and $f$ can also work if $x$ is a complex vector too)\n",
    "* Evaluate $f'(x)$\n",
    "* Store $k$\n",
    "* Determine $a^{(k)}$ and $\\epsilon^{(k)}$\n",
    "* Plot coutour map (applied to $x \\in \\mathbb{R}^2$ only)\n",
    "* Create GIF\n",
    "\n",
    "## Approach?\n",
    "Create a class called `NoisyDescent`, which has a method `optimize` that takes in a function `f`, an initial point `x`, and other arguments (if needed). The function return a vector `x*` that optimizes `f` (for now, just focus on minimizing).\n",
    "\n",
    "For the sake of plotting and creating GIF, the class can somehow provide the history of iterations. The history includes the number of steps, the value of $x$ used at each step, the value of $f$ at each step.\n",
    "\n",
    "The arguments that can be applied is:\n",
    "* the maximum number of iterations\n",
    "* how big is $h$\n",
    "* how to evaluate $\\alpha^{(k)}$\n",
    "* the distribution of $\\epsilon^{(k)}$"
   ]
  },
  {
   "cell_type": "markdown",
   "id": "cb860aa7",
   "metadata": {},
   "source": [
    "# Report notes\n",
    "\n",
    "## What to include\n",
    "* Explain the method\n",
    "  * What is noisy descent\n",
    "  * What is the formula\n",
    "* Advantages\n",
    "* Disadvantages\n",
    "* Compare noisy descent to gradient descent\n",
    "* Extend noisy descent to apply to any descent method\n",
    "\n",
    "## Implementation\n",
    "* Explain how to use the class\n",
    "* Explain what the `optimize()` function do\n",
    "* Explain the `_sigma()` and `_noise()` functions\n",
    "* Explain different derivative methods\n",
    "\n",
    "## Demo\n",
    "* GIF demo of two functions:\n",
    "  * $f(x) = x_0^2 - x_1^2$\n",
    "  * $f(x) = \\sin{x_0} + \\cos{x_1}$\n",
    "\n",
    "* Show how noisy descent escapes saddle points\n",
    "* Show how the variance of the noise reduces after iterations and the gradient becomes more stable\n",
    "* Show cases where gradient descent defeats noisy descent\n",
    "\n",
    "## Submission\n",
    "* Notebook or script?\n",
    "* GIF animations\n",
    "\n",
    "## Differentiation method\n",
    "### Numeric differentiation\n",
    "$$ f'(x) \\approx \\frac{f(x + h/2) - f(x - h/2)}{h} $$\n",
    "\n",
    "### Complex differentiation\n",
    "When $x \\in \\mathbb{R}$:\n",
    "$$ f'(x) \\approx \\frac{\\Im\\left(f(x + hi)\\right)}{h} $$\n",
    "\n",
    "When $x \\in \\mathbb{R}^n$, let\n",
    "\n",
    "$$ z_j = \\begin{bmatrix} x_1 \\\\ \\dots \\\\ x_j \\\\ \\dots \\\\ x_n \\end{bmatrix} + \\begin{bmatrix} 0 \\\\ \\dots  \\\\ hi \\\\ \\dots \\\\ 0 \\end{bmatrix}$$\n",
    "\n",
    "then:\n",
    "\n",
    "$$ \\frac{\\partial f}{\\partial x_j} \\approx \\frac{\\Im(f(z_j))}{h}$$"
   ]
  },
  {
   "cell_type": "markdown",
   "id": "5fdce440",
   "metadata": {},
   "source": [
    "# Implementation"
   ]
  },
  {
   "cell_type": "code",
   "execution_count": 2,
   "id": "fa7eac2f",
   "metadata": {},
   "outputs": [],
   "source": [
    "class NoisyDescent:\n",
    "    def __init__(self, f, x_dim, initial_point=None, max_iter=1000, alpha=0.1, h=10e-2, diff_method='complex'):\n",
    "        self.f = f\n",
    "        self.x_dim = x_dim\n",
    "        self.initial_point = np.random.randn(x_dim) if initial_point is None else initial_point\n",
    "        self.max_iter = max_iter\n",
    "        self.alpha = alpha\n",
    "        self.h = h\n",
    "        self.diff_method = diff_method\n",
    "        \n",
    "        # Iteration count\n",
    "        self.k = 0\n",
    "        \n",
    "        self.current_x = self.initial_point\n",
    "        \n",
    "        # Values of f at each iteration\n",
    "        self.values = [self.f(self.current_x)]\n",
    "        \n",
    "        # Values of x at each iteration\n",
    "        self.steps = [self.current_x]\n",
    "        \n",
    "        self.optimized = False\n",
    "        self.optimized_x = None\n",
    "        \n",
    "    def optimize(self):\n",
    "        for _ in range(self.max_iter):\n",
    "            self.k += 1\n",
    "            \n",
    "            # Perform noisy descent step\n",
    "            grad = self._diff()\n",
    "            self.current_x = self.current_x - self.alpha * grad + self._noise()\n",
    "            \n",
    "            # Store values\n",
    "            f_value = self.f(self.current_x)\n",
    "            self.values.append(f_value)\n",
    "            self.steps.append(self.current_x)\n",
    "        \n",
    "        self.optimized = True\n",
    "        self.optimized_x = self.steps[-1]\n",
    "        return self.optimized_x\n",
    "    \n",
    "    def _sigma(self):\n",
    "        return 1 / self.k\n",
    "    \n",
    "    def _noise(self):\n",
    "        return np.random.normal(scale=self._sigma(), size=(self.x_dim,))\n",
    "    \n",
    "    def _diff(self):\n",
    "        if self.diff_method == 'complex':\n",
    "            return self._diff_complex()\n",
    "        elif self.diff_method == 'numeric':\n",
    "            return self._diff_numeric()\n",
    "        return 0\n",
    "    \n",
    "    def _diff_complex(self):\n",
    "        H = np.eye(self.x_dim) * complex(0, self.h)\n",
    "        result = np.apply_along_axis(lambda x: self.f(x).imag / self.h, 1, self.current_x + H)\n",
    "        return result\n",
    "    \n",
    "    def _diff_numeric(self):\n",
    "        H = np.eye(self.x_dim) * self.h/2\n",
    "        left = np.apply_along_axis(self.f, 1, self.current_x - H)\n",
    "        right = np.apply_along_axis(self.f, 1, self.current_x + H)\n",
    "        return (right - left) / self.h"
   ]
  },
  {
   "cell_type": "markdown",
   "id": "4033b6bc",
   "metadata": {},
   "source": [
    "## Optimizing"
   ]
  },
  {
   "cell_type": "markdown",
   "id": "7f3babed",
   "metadata": {},
   "source": [
    "Optimizing function:\n",
    "$$ f(x) = x_0^2 - x_1^2 $$\n",
    "\n",
    "Initialization: $x = \\begin{bmatrix} 1 \\\\ 0 \\end{bmatrix} $"
   ]
  },
  {
   "cell_type": "code",
   "execution_count": 6,
   "id": "59dcb7ea",
   "metadata": {},
   "outputs": [
    {
     "data": {
      "text/plain": [
       "array([-0.2210216 ,  2.48429218])"
      ]
     },
     "execution_count": 6,
     "metadata": {},
     "output_type": "execute_result"
    }
   ],
   "source": [
    "# To reproduce the same result every time\n",
    "np.random.seed(2)\n",
    "f = lambda x: x[0]**2 - x[1]**2\n",
    "nd = NoisyDescent(f, x_dim=2, initial_point=np.array([1, 0]), max_iter=30, alpha=0.04, diff_method='numeric')\n",
    "nd.optimize()"
   ]
  },
  {
   "cell_type": "markdown",
   "id": "b843b591",
   "metadata": {},
   "source": [
    "## Showing how values of f decrease"
   ]
  },
  {
   "cell_type": "code",
   "execution_count": 4,
   "id": "78c8dc28",
   "metadata": {},
   "outputs": [
    {
     "data": {
      "image/png": "[encoded data removed]",
      "text/plain": [
       "<Figure size 432x288 with 1 Axes>"
      ]
     },
     "metadata": {
      "needs_background": "light"
     },
     "output_type": "display_data"
    }
   ],
   "source": [
    "plt.plot(nd.values)\n",
    "plt.xlabel('Iteration')\n",
    "plt.ylabel('f(x)')\n",
    "plt.show()"
   ]
  },
  {
   "cell_type": "markdown",
   "id": "f4e26ba6",
   "metadata": {},
   "source": [
    "## Ploting contours"
   ]
  },
  {
   "cell_type": "code",
   "execution_count": 5,
   "id": "ba207250",
   "metadata": {},
   "outputs": [
    {
     "data": {
      "image/png": "[encoded data removed]",
      "text/plain": [
       "<Figure size 432x432 with 1 Axes>"
      ]
     },
     "metadata": {
      "needs_background": "light"
     },
     "output_type": "display_data"
    }
   ],
   "source": [
    "Xs = np.linspace(-4, 4, 100)\n",
    "Ys = np.linspace(-4, 4, 100)\n",
    "\n",
    "Xs, Ys = np.meshgrid(Xs, Ys)\n",
    "Zs = np.apply_along_axis(f, 2, np.stack([Xs, Ys], axis=2))\n",
    "\n",
    "# Plot countour\n",
    "plt.figure(figsize=(6, 6))\n",
    "plt.contourf(Xs, Ys, Zs)\n",
    "\n",
    "# Plot steps taken\n",
    "steps = np.array(nd.steps)\n",
    "plt.plot(steps[:, 0], steps[:, 1], marker='x', color='w');\n",
    "\n",
    "plt.show()"
   ]
  },
  {
   "cell_type": "markdown",
   "id": "56dccf29",
   "metadata": {},
   "source": [
    "## Creating GIF"
   ]
  },
  {
   "cell_type": "code",
   "execution_count": 12,
   "id": "f9edfa69",
   "metadata": {},
   "outputs": [],
   "source": [
    "steps = np.array(nd.steps)\n",
    "frames = []\n",
    "for i in range(steps.shape[0]):\n",
    "    # Plot\n",
    "    plt.contourf(Xs, Ys, Zs)\n",
    "    plt.plot(steps[:i+1, 0], steps[:i+1, 1], color='white', marker='x')\n",
    "    \n",
    "    # Save GIF frame to buffer\n",
    "    buffer = io.BytesIO()\n",
    "    plt.savefig(buffer, format='png')\n",
    "    plt.close()\n",
    "    buffer.seek(0)\n",
    "    \n",
    "    # Load and store frame using PIL\n",
    "    frame = Image.open(buffer)\n",
    "    frames.append(frame)"
   ]
  },
  {
   "cell_type": "code",
   "execution_count": 13,
   "id": "858f5682",
   "metadata": {},
   "outputs": [],
   "source": [
    "# Save frame\n",
    "frames[0].save(fp='animations/gradient-descent.gif', format='GIF',\n",
    "               append_images=frames, save_all=True, duration=100, loop=0)"
   ]
  }
 ],
 "metadata": {
  "kernelspec": {
   "display_name": "Python 3 (ipykernel)",
   "language": "python",
   "name": "python3"
  },
  "language_info": {
   "codemirror_mode": {
    "name": "ipython",
    "version": 3
   },
   "file_extension": ".py",
   "mimetype": "text/x-python",
   "name": "python",
   "nbconvert_exporter": "python",
   "pygments_lexer": "ipython3",
   "version": "3.9.7"
  }
 },
 "nbformat": 4,
 "nbformat_minor": 5
}
